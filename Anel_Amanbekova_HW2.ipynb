{
 "cells": [
  {
   "cell_type": "markdown",
   "id": "1005d981",
   "metadata": {},
   "source": [
    "# Anel Amanbekova, SE2011"
   ]
  },
  {
   "cell_type": "markdown",
   "id": "13aef9e5",
   "metadata": {},
   "source": [
    "# KNN "
   ]
  },
  {
   "cell_type": "code",
   "execution_count": 134,
   "id": "fba0e3e6",
   "metadata": {},
   "outputs": [],
   "source": [
    "# library for math operations on numerical data\n",
    "import numpy as np\n",
    "# library for operations on tabular data\n",
    "import pandas as pd\n",
    "# library for data analysis\n",
    "from sklearn import tree\n",
    "# import to split the data into test sets\n",
    "from sklearn.model_selection import train_test_split\n",
    "# import to standartize the data into standart format\n",
    "from sklearn.preprocessing import StandardScaler\n",
    "# for KNN\n",
    "from sklearn.neighbors import KNeighborsClassifier\n",
    "# import to define problems in classification algorithm \n",
    "from sklearn.metrics import confusion_matrix\n",
    "# import to compute F1 score\n",
    "from sklearn.metrics import f1_score\n",
    "# for Decision Tree\n",
    "from sklearn.tree import DecisionTreeClassifier\n",
    "# for Random Forest\n",
    "from sklearn.ensemble import RandomForestClassifier\n",
    "# import to calculate the accuracy\n",
    "from sklearn.metrics import accuracy_score"
   ]
  },
  {
   "cell_type": "code",
   "execution_count": 135,
   "id": "80ceca46",
   "metadata": {},
   "outputs": [
    {
     "data": {
      "text/html": [
       "<div>\n",
       "<style scoped>\n",
       "    .dataframe tbody tr th:only-of-type {\n",
       "        vertical-align: middle;\n",
       "    }\n",
       "\n",
       "    .dataframe tbody tr th {\n",
       "        vertical-align: top;\n",
       "    }\n",
       "\n",
       "    .dataframe thead th {\n",
       "        text-align: right;\n",
       "    }\n",
       "</style>\n",
       "<table border=\"1\" class=\"dataframe\">\n",
       "  <thead>\n",
       "    <tr style=\"text-align: right;\">\n",
       "      <th></th>\n",
       "      <th>Age</th>\n",
       "      <th>Sex</th>\n",
       "      <th>BP</th>\n",
       "      <th>Cholesterol</th>\n",
       "      <th>Na_to_K</th>\n",
       "      <th>Drug</th>\n",
       "    </tr>\n",
       "  </thead>\n",
       "  <tbody>\n",
       "    <tr>\n",
       "      <th>0</th>\n",
       "      <td>23</td>\n",
       "      <td>F</td>\n",
       "      <td>HIGH</td>\n",
       "      <td>HIGH</td>\n",
       "      <td>25.355</td>\n",
       "      <td>DrugY</td>\n",
       "    </tr>\n",
       "    <tr>\n",
       "      <th>1</th>\n",
       "      <td>47</td>\n",
       "      <td>M</td>\n",
       "      <td>LOW</td>\n",
       "      <td>HIGH</td>\n",
       "      <td>13.093</td>\n",
       "      <td>drugC</td>\n",
       "    </tr>\n",
       "    <tr>\n",
       "      <th>2</th>\n",
       "      <td>47</td>\n",
       "      <td>M</td>\n",
       "      <td>LOW</td>\n",
       "      <td>HIGH</td>\n",
       "      <td>10.114</td>\n",
       "      <td>drugC</td>\n",
       "    </tr>\n",
       "    <tr>\n",
       "      <th>3</th>\n",
       "      <td>28</td>\n",
       "      <td>F</td>\n",
       "      <td>NORMAL</td>\n",
       "      <td>HIGH</td>\n",
       "      <td>7.798</td>\n",
       "      <td>drugX</td>\n",
       "    </tr>\n",
       "    <tr>\n",
       "      <th>4</th>\n",
       "      <td>61</td>\n",
       "      <td>F</td>\n",
       "      <td>LOW</td>\n",
       "      <td>HIGH</td>\n",
       "      <td>18.043</td>\n",
       "      <td>DrugY</td>\n",
       "    </tr>\n",
       "    <tr>\n",
       "      <th>5</th>\n",
       "      <td>22</td>\n",
       "      <td>F</td>\n",
       "      <td>NORMAL</td>\n",
       "      <td>HIGH</td>\n",
       "      <td>8.607</td>\n",
       "      <td>drugX</td>\n",
       "    </tr>\n",
       "    <tr>\n",
       "      <th>6</th>\n",
       "      <td>49</td>\n",
       "      <td>F</td>\n",
       "      <td>NORMAL</td>\n",
       "      <td>HIGH</td>\n",
       "      <td>16.275</td>\n",
       "      <td>DrugY</td>\n",
       "    </tr>\n",
       "    <tr>\n",
       "      <th>7</th>\n",
       "      <td>41</td>\n",
       "      <td>M</td>\n",
       "      <td>LOW</td>\n",
       "      <td>HIGH</td>\n",
       "      <td>11.037</td>\n",
       "      <td>drugC</td>\n",
       "    </tr>\n",
       "    <tr>\n",
       "      <th>8</th>\n",
       "      <td>60</td>\n",
       "      <td>M</td>\n",
       "      <td>NORMAL</td>\n",
       "      <td>HIGH</td>\n",
       "      <td>15.171</td>\n",
       "      <td>DrugY</td>\n",
       "    </tr>\n",
       "    <tr>\n",
       "      <th>9</th>\n",
       "      <td>43</td>\n",
       "      <td>M</td>\n",
       "      <td>LOW</td>\n",
       "      <td>NORMAL</td>\n",
       "      <td>19.368</td>\n",
       "      <td>DrugY</td>\n",
       "    </tr>\n",
       "  </tbody>\n",
       "</table>\n",
       "</div>"
      ],
      "text/plain": [
       "   Age Sex      BP Cholesterol  Na_to_K   Drug\n",
       "0   23   F    HIGH        HIGH   25.355  DrugY\n",
       "1   47   M     LOW        HIGH   13.093  drugC\n",
       "2   47   M     LOW        HIGH   10.114  drugC\n",
       "3   28   F  NORMAL        HIGH    7.798  drugX\n",
       "4   61   F     LOW        HIGH   18.043  DrugY\n",
       "5   22   F  NORMAL        HIGH    8.607  drugX\n",
       "6   49   F  NORMAL        HIGH   16.275  DrugY\n",
       "7   41   M     LOW        HIGH   11.037  drugC\n",
       "8   60   M  NORMAL        HIGH   15.171  DrugY\n",
       "9   43   M     LOW      NORMAL   19.368  DrugY"
      ]
     },
     "execution_count": 135,
     "metadata": {},
     "output_type": "execute_result"
    }
   ],
   "source": [
    "# read csv file \n",
    "df = pd.read_csv(\"drug200.csv\")\n",
    "# get first 10 record from dataset\n",
    "df.head(10)"
   ]
  },
  {
   "cell_type": "code",
   "execution_count": 136,
   "id": "4c96dd4d",
   "metadata": {},
   "outputs": [
    {
     "data": {
      "text/plain": [
       "200"
      ]
     },
     "execution_count": 136,
     "metadata": {},
     "output_type": "execute_result"
    }
   ],
   "source": [
    "# get lenght of dataset\n",
    "len(df)"
   ]
  },
  {
   "cell_type": "code",
   "execution_count": 137,
   "id": "8b03ddc2",
   "metadata": {},
   "outputs": [],
   "source": [
    "# replace all words to numerical data\n",
    "\n",
    "# label Females and Males as 1 or 0\n",
    "df=df.replace(to_replace=\"F\",value=\"1\")\n",
    "df=df.replace(to_replace=\"M\",value=\"0\")\n",
    "# label BP as 0-2 and cholesterol as 1 or 0\n",
    "df=df.replace(to_replace=\"HIGH\",value=\"0\")\n",
    "df=df.replace(to_replace=\"NORMAL\",value=\"1\")\n",
    "df=df.replace(to_replace=\"LOW\",value=\"2\")"
   ]
  },
  {
   "cell_type": "code",
   "execution_count": 138,
   "id": "dc4f29e1",
   "metadata": {},
   "outputs": [
    {
     "data": {
      "text/html": [
       "<div>\n",
       "<style scoped>\n",
       "    .dataframe tbody tr th:only-of-type {\n",
       "        vertical-align: middle;\n",
       "    }\n",
       "\n",
       "    .dataframe tbody tr th {\n",
       "        vertical-align: top;\n",
       "    }\n",
       "\n",
       "    .dataframe thead th {\n",
       "        text-align: right;\n",
       "    }\n",
       "</style>\n",
       "<table border=\"1\" class=\"dataframe\">\n",
       "  <thead>\n",
       "    <tr style=\"text-align: right;\">\n",
       "      <th></th>\n",
       "      <th>Age</th>\n",
       "      <th>Sex</th>\n",
       "      <th>BP</th>\n",
       "      <th>Cholesterol</th>\n",
       "      <th>Na_to_K</th>\n",
       "      <th>Drug</th>\n",
       "    </tr>\n",
       "  </thead>\n",
       "  <tbody>\n",
       "    <tr>\n",
       "      <th>0</th>\n",
       "      <td>23</td>\n",
       "      <td>1</td>\n",
       "      <td>0</td>\n",
       "      <td>0</td>\n",
       "      <td>25.355</td>\n",
       "      <td>DrugY</td>\n",
       "    </tr>\n",
       "    <tr>\n",
       "      <th>1</th>\n",
       "      <td>47</td>\n",
       "      <td>0</td>\n",
       "      <td>2</td>\n",
       "      <td>0</td>\n",
       "      <td>13.093</td>\n",
       "      <td>drugC</td>\n",
       "    </tr>\n",
       "    <tr>\n",
       "      <th>2</th>\n",
       "      <td>47</td>\n",
       "      <td>0</td>\n",
       "      <td>2</td>\n",
       "      <td>0</td>\n",
       "      <td>10.114</td>\n",
       "      <td>drugC</td>\n",
       "    </tr>\n",
       "    <tr>\n",
       "      <th>3</th>\n",
       "      <td>28</td>\n",
       "      <td>1</td>\n",
       "      <td>1</td>\n",
       "      <td>0</td>\n",
       "      <td>7.798</td>\n",
       "      <td>drugX</td>\n",
       "    </tr>\n",
       "    <tr>\n",
       "      <th>4</th>\n",
       "      <td>61</td>\n",
       "      <td>1</td>\n",
       "      <td>2</td>\n",
       "      <td>0</td>\n",
       "      <td>18.043</td>\n",
       "      <td>DrugY</td>\n",
       "    </tr>\n",
       "    <tr>\n",
       "      <th>5</th>\n",
       "      <td>22</td>\n",
       "      <td>1</td>\n",
       "      <td>1</td>\n",
       "      <td>0</td>\n",
       "      <td>8.607</td>\n",
       "      <td>drugX</td>\n",
       "    </tr>\n",
       "    <tr>\n",
       "      <th>6</th>\n",
       "      <td>49</td>\n",
       "      <td>1</td>\n",
       "      <td>1</td>\n",
       "      <td>0</td>\n",
       "      <td>16.275</td>\n",
       "      <td>DrugY</td>\n",
       "    </tr>\n",
       "    <tr>\n",
       "      <th>7</th>\n",
       "      <td>41</td>\n",
       "      <td>0</td>\n",
       "      <td>2</td>\n",
       "      <td>0</td>\n",
       "      <td>11.037</td>\n",
       "      <td>drugC</td>\n",
       "    </tr>\n",
       "    <tr>\n",
       "      <th>8</th>\n",
       "      <td>60</td>\n",
       "      <td>0</td>\n",
       "      <td>1</td>\n",
       "      <td>0</td>\n",
       "      <td>15.171</td>\n",
       "      <td>DrugY</td>\n",
       "    </tr>\n",
       "    <tr>\n",
       "      <th>9</th>\n",
       "      <td>43</td>\n",
       "      <td>0</td>\n",
       "      <td>2</td>\n",
       "      <td>1</td>\n",
       "      <td>19.368</td>\n",
       "      <td>DrugY</td>\n",
       "    </tr>\n",
       "  </tbody>\n",
       "</table>\n",
       "</div>"
      ],
      "text/plain": [
       "   Age Sex BP Cholesterol  Na_to_K   Drug\n",
       "0   23   1  0           0   25.355  DrugY\n",
       "1   47   0  2           0   13.093  drugC\n",
       "2   47   0  2           0   10.114  drugC\n",
       "3   28   1  1           0    7.798  drugX\n",
       "4   61   1  2           0   18.043  DrugY\n",
       "5   22   1  1           0    8.607  drugX\n",
       "6   49   1  1           0   16.275  DrugY\n",
       "7   41   0  2           0   11.037  drugC\n",
       "8   60   0  1           0   15.171  DrugY\n",
       "9   43   0  2           1   19.368  DrugY"
      ]
     },
     "execution_count": 138,
     "metadata": {},
     "output_type": "execute_result"
    }
   ],
   "source": [
    "df.head(10)"
   ]
  },
  {
   "cell_type": "code",
   "execution_count": 139,
   "id": "1dc7c319",
   "metadata": {},
   "outputs": [],
   "source": [
    "# splitting the dataset\n",
    "# iloc to select specific row/columns from the data\n",
    "\n",
    "# use only training part of the data\n",
    "# which are all rows and all columns except 6th column (cause this is the answer column)\n",
    "X = df.iloc[:, 0:5]\n",
    "#only answers\n",
    "y = df.iloc[:, 5]\n",
    "# test_size = 0.2 means 80% training and 20% of test from the data\n",
    "# random_state controls the shuffling process\n",
    "X_train, X_test, y_train, y_test = train_test_split(X, y, random_state = 0, test_size=0.2)"
   ]
  },
  {
   "cell_type": "code",
   "execution_count": 140,
   "id": "cb4352ca",
   "metadata": {},
   "outputs": [],
   "source": [
    "# Feature scaling\n",
    "# we scale the data to standartize it (mean = 0 and standart deviation = 1)\n",
    "sc_X = StandardScaler()\n",
    "#scale train and test data\n",
    "X_train = sc_X.fit_transform(X_train)\n",
    "X_test = sc_X.transform(X_test)"
   ]
  },
  {
   "cell_type": "code",
   "execution_count": 141,
   "id": "dbdebe53",
   "metadata": {},
   "outputs": [
    {
     "name": "stdout",
     "output_type": "stream",
     "text": [
      "160\n",
      "160\n",
      "40\n",
      "40\n"
     ]
    }
   ],
   "source": [
    "print(len(X_train))\n",
    "print(len(y_train))\n",
    "print(len(X_test))\n",
    "print(len(y_test))"
   ]
  },
  {
   "cell_type": "code",
   "execution_count": 142,
   "id": "8ea22f08",
   "metadata": {},
   "outputs": [
    {
     "data": {
      "text/plain": [
       "14.142135623730951"
      ]
     },
     "execution_count": 142,
     "metadata": {},
     "output_type": "execute_result"
    }
   ],
   "source": [
    "# import library to use math operations\n",
    "import math\n",
    "#calculate the value of K which is square root of all values \n",
    "math.sqrt(len(df))"
   ]
  },
  {
   "cell_type": "code",
   "execution_count": 143,
   "id": "2f5b940c",
   "metadata": {},
   "outputs": [],
   "source": [
    "# Define the model: KNN\n",
    "#since we have 3 types of answers it is okay to use even value of K\n",
    "classifier = KNeighborsClassifier(n_neighbors = 14, metric='euclidean')"
   ]
  },
  {
   "cell_type": "code",
   "execution_count": 144,
   "id": "d7143bcd",
   "metadata": {},
   "outputs": [
    {
     "data": {
      "text/html": [
       "<style>#sk-container-id-26 {color: black;background-color: white;}#sk-container-id-26 pre{padding: 0;}#sk-container-id-26 div.sk-toggleable {background-color: white;}#sk-container-id-26 label.sk-toggleable__label {cursor: pointer;display: block;width: 100%;margin-bottom: 0;padding: 0.3em;box-sizing: border-box;text-align: center;}#sk-container-id-26 label.sk-toggleable__label-arrow:before {content: \"▸\";float: left;margin-right: 0.25em;color: #696969;}#sk-container-id-26 label.sk-toggleable__label-arrow:hover:before {color: black;}#sk-container-id-26 div.sk-estimator:hover label.sk-toggleable__label-arrow:before {color: black;}#sk-container-id-26 div.sk-toggleable__content {max-height: 0;max-width: 0;overflow: hidden;text-align: left;background-color: #f0f8ff;}#sk-container-id-26 div.sk-toggleable__content pre {margin: 0.2em;color: black;border-radius: 0.25em;background-color: #f0f8ff;}#sk-container-id-26 input.sk-toggleable__control:checked~div.sk-toggleable__content {max-height: 200px;max-width: 100%;overflow: auto;}#sk-container-id-26 input.sk-toggleable__control:checked~label.sk-toggleable__label-arrow:before {content: \"▾\";}#sk-container-id-26 div.sk-estimator input.sk-toggleable__control:checked~label.sk-toggleable__label {background-color: #d4ebff;}#sk-container-id-26 div.sk-label input.sk-toggleable__control:checked~label.sk-toggleable__label {background-color: #d4ebff;}#sk-container-id-26 input.sk-hidden--visually {border: 0;clip: rect(1px 1px 1px 1px);clip: rect(1px, 1px, 1px, 1px);height: 1px;margin: -1px;overflow: hidden;padding: 0;position: absolute;width: 1px;}#sk-container-id-26 div.sk-estimator {font-family: monospace;background-color: #f0f8ff;border: 1px dotted black;border-radius: 0.25em;box-sizing: border-box;margin-bottom: 0.5em;}#sk-container-id-26 div.sk-estimator:hover {background-color: #d4ebff;}#sk-container-id-26 div.sk-parallel-item::after {content: \"\";width: 100%;border-bottom: 1px solid gray;flex-grow: 1;}#sk-container-id-26 div.sk-label:hover label.sk-toggleable__label {background-color: #d4ebff;}#sk-container-id-26 div.sk-serial::before {content: \"\";position: absolute;border-left: 1px solid gray;box-sizing: border-box;top: 0;bottom: 0;left: 50%;z-index: 0;}#sk-container-id-26 div.sk-serial {display: flex;flex-direction: column;align-items: center;background-color: white;padding-right: 0.2em;padding-left: 0.2em;position: relative;}#sk-container-id-26 div.sk-item {position: relative;z-index: 1;}#sk-container-id-26 div.sk-parallel {display: flex;align-items: stretch;justify-content: center;background-color: white;position: relative;}#sk-container-id-26 div.sk-item::before, #sk-container-id-26 div.sk-parallel-item::before {content: \"\";position: absolute;border-left: 1px solid gray;box-sizing: border-box;top: 0;bottom: 0;left: 50%;z-index: -1;}#sk-container-id-26 div.sk-parallel-item {display: flex;flex-direction: column;z-index: 1;position: relative;background-color: white;}#sk-container-id-26 div.sk-parallel-item:first-child::after {align-self: flex-end;width: 50%;}#sk-container-id-26 div.sk-parallel-item:last-child::after {align-self: flex-start;width: 50%;}#sk-container-id-26 div.sk-parallel-item:only-child::after {width: 0;}#sk-container-id-26 div.sk-dashed-wrapped {border: 1px dashed gray;margin: 0 0.4em 0.5em 0.4em;box-sizing: border-box;padding-bottom: 0.4em;background-color: white;}#sk-container-id-26 div.sk-label label {font-family: monospace;font-weight: bold;display: inline-block;line-height: 1.2em;}#sk-container-id-26 div.sk-label-container {text-align: center;}#sk-container-id-26 div.sk-container {/* jupyter's `normalize.less` sets `[hidden] { display: none; }` but bootstrap.min.css set `[hidden] { display: none !important; }` so we also need the `!important` here to be able to override the default hidden behavior on the sphinx rendered scikit-learn.org. See: https://github.com/scikit-learn/scikit-learn/issues/21755 */display: inline-block !important;position: relative;}#sk-container-id-26 div.sk-text-repr-fallback {display: none;}</style><div id=\"sk-container-id-26\" class=\"sk-top-container\"><div class=\"sk-text-repr-fallback\"><pre>KNeighborsClassifier(metric=&#x27;euclidean&#x27;, n_neighbors=14)</pre><b>In a Jupyter environment, please rerun this cell to show the HTML representation or trust the notebook. <br />On GitHub, the HTML representation is unable to render, please try loading this page with nbviewer.org.</b></div><div class=\"sk-container\" hidden><div class=\"sk-item\"><div class=\"sk-estimator sk-toggleable\"><input class=\"sk-toggleable__control sk-hidden--visually\" id=\"sk-estimator-id-26\" type=\"checkbox\" checked><label for=\"sk-estimator-id-26\" class=\"sk-toggleable__label sk-toggleable__label-arrow\">KNeighborsClassifier</label><div class=\"sk-toggleable__content\"><pre>KNeighborsClassifier(metric=&#x27;euclidean&#x27;, n_neighbors=14)</pre></div></div></div></div></div>"
      ],
      "text/plain": [
       "KNeighborsClassifier(metric='euclidean', n_neighbors=14)"
      ]
     },
     "execution_count": 144,
     "metadata": {},
     "output_type": "execute_result"
    }
   ],
   "source": [
    "# Fit model of KNN with our data\n",
    "classifier.fit(X_train, y_train)"
   ]
  },
  {
   "cell_type": "code",
   "execution_count": 145,
   "id": "be3d8b64",
   "metadata": {},
   "outputs": [
    {
     "data": {
      "text/plain": [
       "array(['drugC', 'drugA', 'DrugY', 'DrugY', 'DrugY', 'drugX', 'drugX',\n",
       "       'drugX', 'DrugY', 'drugX', 'drugA', 'DrugY', 'DrugY', 'drugX',\n",
       "       'DrugY', 'drugC', 'DrugY', 'DrugY', 'drugX', 'DrugY', 'DrugY',\n",
       "       'drugB', 'drugX', 'drugX', 'DrugY', 'drugX', 'DrugY', 'DrugY',\n",
       "       'DrugY', 'drugX', 'drugX', 'drugC', 'drugA', 'drugX', 'DrugY',\n",
       "       'DrugY', 'drugX', 'DrugY', 'DrugY', 'DrugY'], dtype=object)"
      ]
     },
     "execution_count": 145,
     "metadata": {},
     "output_type": "execute_result"
    }
   ],
   "source": [
    "# Predict the test set results\n",
    "y_pred = classifier.predict(X_test)\n",
    "y_pred"
   ]
  },
  {
   "cell_type": "code",
   "execution_count": 146,
   "id": "cc2de6d1",
   "metadata": {},
   "outputs": [
    {
     "data": {
      "text/plain": [
       "array([[-1.32743718, -0.93933644,  1.30088727, -0.92761259, -1.22346977],\n",
       "       [-1.02626028,  1.06458129,  0.11826248, -0.92761259, -0.44626402],\n",
       "       [-0.18296497, -0.93933644,  1.30088727, -0.92761259,  0.5472113 ],\n",
       "       [-1.50814332, -0.93933644, -1.06436231,  1.07803625,  2.72327597],\n",
       "       [-1.20696642, -0.93933644,  0.11826248, -0.92761259,  0.40767355],\n",
       "       [-1.50814332,  1.06458129,  1.30088727,  1.07803625, -0.61240028],\n",
       "       [-1.38767256,  1.06458129,  0.11826248, -0.92761259, -1.04117944],\n",
       "       [-0.48414186,  1.06458129,  1.30088727,  1.07803625, -0.56783733],\n",
       "       [-0.12272959, -0.93933644,  1.30088727, -0.92761259, -0.09853374],\n",
       "       [ 0.60009497, -0.93933644,  0.11826248,  1.07803625, -1.22862236],\n",
       "       [-1.2672018 , -0.93933644, -1.06436231,  1.07803625, -0.92030243],\n",
       "       [-1.5683787 ,  1.06458129, -1.06436231,  1.07803625,  1.37663925],\n",
       "       [-1.38767256,  1.06458129, -1.06436231,  1.07803625,  0.93783343],\n",
       "       [-0.48414186, -0.93933644,  1.30088727,  1.07803625,  0.0891877 ],\n",
       "       [ 0.90127187, -0.93933644, -1.06436231, -0.92761259, -0.29934554],\n",
       "       [-0.24320035, -0.93933644,  1.30088727, -0.92761259, -0.70277952],\n",
       "       [ 1.20244877,  1.06458129, -1.06436231,  1.07803625,  2.1992435 ],\n",
       "       [ 1.50362567,  1.06458129,  0.11826248, -0.92761259,  0.61349869],\n",
       "       [-0.36367111, -0.93933644,  1.30088727,  1.07803625, -0.2987885 ],\n",
       "       [-0.84555414, -0.93933644, -1.06436231,  1.07803625,  0.13723213],\n",
       "       [-0.54437724,  1.06458129, -1.06436231,  1.07803625, -0.08265818],\n",
       "       [ 0.96150725, -0.93933644,  0.11826248, -0.92761259, -0.92475873],\n",
       "       [ 1.26268415,  1.06458129,  0.11826248,  1.07803625, -1.11080905],\n",
       "       [-0.664848  ,  1.06458129,  1.30088727,  1.07803625, -0.44013662],\n",
       "       [-0.42390649,  1.06458129,  1.30088727,  1.07803625,  1.92058579],\n",
       "       [-0.54437724,  1.06458129,  0.11826248, -0.92761259,  0.09322622],\n",
       "       [ 1.32291953,  1.06458129,  0.11826248, -0.92761259, -0.02681523],\n",
       "       [ 0.72056573,  1.06458129,  0.11826248,  1.07803625,  1.36605555],\n",
       "       [-0.664848  , -0.93933644,  0.11826248, -0.92761259,  0.88742159],\n",
       "       [ 0.29891807,  1.06458129,  0.11826248,  1.07803625, -0.52759141],\n",
       "       [ 1.44339029, -0.93933644,  1.30088727,  1.07803625, -0.64456916],\n",
       "       [-1.14673104,  1.06458129,  1.30088727, -0.92761259, -0.26787296],\n",
       "       [ 0.23868269, -0.93933644, -1.06436231,  1.07803625, -1.02822833],\n",
       "       [ 0.11821193,  1.06458129,  0.11826248,  1.07803625, -1.30911419],\n",
       "       [ 0.11821193, -0.93933644,  1.30088727,  1.07803625,  2.01709243],\n",
       "       [ 1.14221339, -0.93933644, -1.06436231,  1.07803625,  0.67519053],\n",
       "       [-0.78531876,  1.06458129,  0.11826248, -0.92761259, -1.19854237],\n",
       "       [ 0.96150725,  1.06458129,  1.30088727, -0.92761259,  0.27287062],\n",
       "       [-0.42390649,  1.06458129, -1.06436231,  1.07803625, -0.6625336 ],\n",
       "       [-1.38767256, -0.93933644,  0.11826248, -0.92761259, -0.57521807]])"
      ]
     },
     "execution_count": 146,
     "metadata": {},
     "output_type": "execute_result"
    }
   ],
   "source": [
    "X_test"
   ]
  },
  {
   "cell_type": "code",
   "execution_count": 147,
   "id": "f4d9ea40",
   "metadata": {},
   "outputs": [
    {
     "name": "stdout",
     "output_type": "stream",
     "text": [
      "[[17  0  0  0  2]\n",
      " [ 1  2  0  0  0]\n",
      " [ 1  0  0  0  0]\n",
      " [ 0  0  0  3  0]\n",
      " [ 1  1  1  0 11]]\n"
     ]
    }
   ],
   "source": [
    "# Evaluate model to the confusion matrix\n",
    "# Compute confusion matrix to evaluate the accuracy of a classification\n",
    "cm = confusion_matrix(y_test, y_pred)\n",
    "print (cm)"
   ]
  },
  {
   "cell_type": "code",
   "execution_count": 148,
   "id": "78c028dc",
   "metadata": {},
   "outputs": [
    {
     "name": "stdout",
     "output_type": "stream",
     "text": [
      "0.825\n"
     ]
    }
   ],
   "source": [
    "# find accuracy by comparing test set and predicted set\n",
    "print(accuracy_score(y_test, y_pred))"
   ]
  },
  {
   "cell_type": "markdown",
   "id": "10c208ac",
   "metadata": {},
   "source": [
    "Next step is to test data with different test_size from 0.2 to 0.3 {0.20, 0.21, 0.22, 0.23, ..., 0.30}"
   ]
  },
  {
   "cell_type": "code",
   "execution_count": 158,
   "id": "a1eb4b17",
   "metadata": {},
   "outputs": [],
   "source": [
    "# for every test_size from 0.2 to 0.3 with step of 0.01\n",
    "# find accuracy\n",
    "KNNAccuracy = []\n",
    "for i in np.arange(0.2, 0.31, 0.01):\n",
    "    X = df.iloc[:, 0:5]\n",
    "    y = df.iloc[:, 5]\n",
    "    X_train, X_test, y_train, y_test = train_test_split(X, y, random_state = 0, test_size=i)\n",
    "    sc_X = StandardScaler()\n",
    "    X_train = sc_X.fit_transform(X_train)\n",
    "    X_test = sc_X.transform(X_test)\n",
    "    classifier = KNeighborsClassifier(n_neighbors=14, metric='euclidean')\n",
    "    classifier.fit(X_train, y_train)\n",
    "    y_pred = classifier.predict(X_test)\n",
    "    KNNAccuracy.append(accuracy_score(y_test, y_pred))"
   ]
  },
  {
   "cell_type": "code",
   "execution_count": 159,
   "id": "d51d0e96",
   "metadata": {},
   "outputs": [
    {
     "data": {
      "text/plain": [
       "[0.825,\n",
       " 0.8372093023255814,\n",
       " 0.8444444444444444,\n",
       " 0.8723404255319149,\n",
       " 0.8367346938775511,\n",
       " 0.7647058823529411,\n",
       " 0.7735849056603774,\n",
       " 0.7636363636363637,\n",
       " 0.7719298245614035,\n",
       " 0.7457627118644068,\n",
       " 0.7377049180327869]"
      ]
     },
     "execution_count": 159,
     "metadata": {},
     "output_type": "execute_result"
    }
   ],
   "source": [
    "KNNAccuracy"
   ]
  },
  {
   "cell_type": "markdown",
   "id": "12f38a1d",
   "metadata": {},
   "source": [
    "# Decision Tree"
   ]
  },
  {
   "cell_type": "code",
   "execution_count": 160,
   "id": "1c051ebf",
   "metadata": {},
   "outputs": [],
   "source": [
    "X = df.iloc[:, 0:5]\n",
    "y = df.iloc[:, 5]\n",
    "X_train, X_test, y_train, y_test = train_test_split(X, y, random_state = 0, test_size = 0.2)"
   ]
  },
  {
   "cell_type": "code",
   "execution_count": 164,
   "id": "962fecc2",
   "metadata": {},
   "outputs": [
    {
     "data": {
      "text/html": [
       "<style>#sk-container-id-29 {color: black;background-color: white;}#sk-container-id-29 pre{padding: 0;}#sk-container-id-29 div.sk-toggleable {background-color: white;}#sk-container-id-29 label.sk-toggleable__label {cursor: pointer;display: block;width: 100%;margin-bottom: 0;padding: 0.3em;box-sizing: border-box;text-align: center;}#sk-container-id-29 label.sk-toggleable__label-arrow:before {content: \"▸\";float: left;margin-right: 0.25em;color: #696969;}#sk-container-id-29 label.sk-toggleable__label-arrow:hover:before {color: black;}#sk-container-id-29 div.sk-estimator:hover label.sk-toggleable__label-arrow:before {color: black;}#sk-container-id-29 div.sk-toggleable__content {max-height: 0;max-width: 0;overflow: hidden;text-align: left;background-color: #f0f8ff;}#sk-container-id-29 div.sk-toggleable__content pre {margin: 0.2em;color: black;border-radius: 0.25em;background-color: #f0f8ff;}#sk-container-id-29 input.sk-toggleable__control:checked~div.sk-toggleable__content {max-height: 200px;max-width: 100%;overflow: auto;}#sk-container-id-29 input.sk-toggleable__control:checked~label.sk-toggleable__label-arrow:before {content: \"▾\";}#sk-container-id-29 div.sk-estimator input.sk-toggleable__control:checked~label.sk-toggleable__label {background-color: #d4ebff;}#sk-container-id-29 div.sk-label input.sk-toggleable__control:checked~label.sk-toggleable__label {background-color: #d4ebff;}#sk-container-id-29 input.sk-hidden--visually {border: 0;clip: rect(1px 1px 1px 1px);clip: rect(1px, 1px, 1px, 1px);height: 1px;margin: -1px;overflow: hidden;padding: 0;position: absolute;width: 1px;}#sk-container-id-29 div.sk-estimator {font-family: monospace;background-color: #f0f8ff;border: 1px dotted black;border-radius: 0.25em;box-sizing: border-box;margin-bottom: 0.5em;}#sk-container-id-29 div.sk-estimator:hover {background-color: #d4ebff;}#sk-container-id-29 div.sk-parallel-item::after {content: \"\";width: 100%;border-bottom: 1px solid gray;flex-grow: 1;}#sk-container-id-29 div.sk-label:hover label.sk-toggleable__label {background-color: #d4ebff;}#sk-container-id-29 div.sk-serial::before {content: \"\";position: absolute;border-left: 1px solid gray;box-sizing: border-box;top: 0;bottom: 0;left: 50%;z-index: 0;}#sk-container-id-29 div.sk-serial {display: flex;flex-direction: column;align-items: center;background-color: white;padding-right: 0.2em;padding-left: 0.2em;position: relative;}#sk-container-id-29 div.sk-item {position: relative;z-index: 1;}#sk-container-id-29 div.sk-parallel {display: flex;align-items: stretch;justify-content: center;background-color: white;position: relative;}#sk-container-id-29 div.sk-item::before, #sk-container-id-29 div.sk-parallel-item::before {content: \"\";position: absolute;border-left: 1px solid gray;box-sizing: border-box;top: 0;bottom: 0;left: 50%;z-index: -1;}#sk-container-id-29 div.sk-parallel-item {display: flex;flex-direction: column;z-index: 1;position: relative;background-color: white;}#sk-container-id-29 div.sk-parallel-item:first-child::after {align-self: flex-end;width: 50%;}#sk-container-id-29 div.sk-parallel-item:last-child::after {align-self: flex-start;width: 50%;}#sk-container-id-29 div.sk-parallel-item:only-child::after {width: 0;}#sk-container-id-29 div.sk-dashed-wrapped {border: 1px dashed gray;margin: 0 0.4em 0.5em 0.4em;box-sizing: border-box;padding-bottom: 0.4em;background-color: white;}#sk-container-id-29 div.sk-label label {font-family: monospace;font-weight: bold;display: inline-block;line-height: 1.2em;}#sk-container-id-29 div.sk-label-container {text-align: center;}#sk-container-id-29 div.sk-container {/* jupyter's `normalize.less` sets `[hidden] { display: none; }` but bootstrap.min.css set `[hidden] { display: none !important; }` so we also need the `!important` here to be able to override the default hidden behavior on the sphinx rendered scikit-learn.org. See: https://github.com/scikit-learn/scikit-learn/issues/21755 */display: inline-block !important;position: relative;}#sk-container-id-29 div.sk-text-repr-fallback {display: none;}</style><div id=\"sk-container-id-29\" class=\"sk-top-container\"><div class=\"sk-text-repr-fallback\"><pre>DecisionTreeClassifier(criterion=&#x27;entropy&#x27;, max_depth=3, min_samples_leaf=5,\n",
       "                       random_state=0)</pre><b>In a Jupyter environment, please rerun this cell to show the HTML representation or trust the notebook. <br />On GitHub, the HTML representation is unable to render, please try loading this page with nbviewer.org.</b></div><div class=\"sk-container\" hidden><div class=\"sk-item\"><div class=\"sk-estimator sk-toggleable\"><input class=\"sk-toggleable__control sk-hidden--visually\" id=\"sk-estimator-id-29\" type=\"checkbox\" checked><label for=\"sk-estimator-id-29\" class=\"sk-toggleable__label sk-toggleable__label-arrow\">DecisionTreeClassifier</label><div class=\"sk-toggleable__content\"><pre>DecisionTreeClassifier(criterion=&#x27;entropy&#x27;, max_depth=3, min_samples_leaf=5,\n",
       "                       random_state=0)</pre></div></div></div></div></div>"
      ],
      "text/plain": [
       "DecisionTreeClassifier(criterion='entropy', max_depth=3, min_samples_leaf=5,\n",
       "                       random_state=0)"
      ]
     },
     "execution_count": 164,
     "metadata": {},
     "output_type": "execute_result"
    }
   ],
   "source": [
    "# function to perform training with entropy\n",
    "# max_depth is the maximum depth of the tree. If None, then nodes are expanded until all leaves are pure\n",
    "# min_samples_leaf is the minimum number of samples required to be at a leaf node\n",
    "clf_entropy = DecisionTreeClassifier(criterion = \"entropy\", random_state = 0, max_depth = 3, min_samples_leaf = 5)\n",
    "# fit our train data into DT model\n",
    "clf_entropy.fit(X_train, y_train)"
   ]
  },
  {
   "cell_type": "code",
   "execution_count": 165,
   "id": "4f582fb3",
   "metadata": {},
   "outputs": [
    {
     "data": {
      "text/plain": [
       "array(['drugC', 'drugX', 'DrugY', 'DrugY', 'DrugY', 'drugC', 'drugX',\n",
       "       'drugC', 'DrugY', 'drugX', 'drugA', 'DrugY', 'DrugY', 'DrugY',\n",
       "       'drugB', 'drugC', 'DrugY', 'DrugY', 'drugC', 'DrugY', 'DrugY',\n",
       "       'drugX', 'drugX', 'drugC', 'DrugY', 'DrugY', 'DrugY', 'DrugY',\n",
       "       'DrugY', 'drugX', 'drugC', 'drugC', 'drugA', 'drugX', 'DrugY',\n",
       "       'DrugY', 'drugX', 'DrugY', 'drugA', 'drugX'], dtype=object)"
      ]
     },
     "execution_count": 165,
     "metadata": {},
     "output_type": "execute_result"
    }
   ],
   "source": [
    "# predict answer set and print it\n",
    "y_pred_en = clf_entropy.predict(X_test)\n",
    "y_pred_en"
   ]
  },
  {
   "cell_type": "code",
   "execution_count": 166,
   "id": "365f9603",
   "metadata": {},
   "outputs": [
    {
     "name": "stdout",
     "output_type": "stream",
     "text": [
      "0.875\n"
     ]
    }
   ],
   "source": [
    "# printing the accuracy\n",
    "print (accuracy_score(y_test, y_pred_en))"
   ]
  },
  {
   "cell_type": "code",
   "execution_count": 169,
   "id": "f96d6328",
   "metadata": {},
   "outputs": [],
   "source": [
    "DTAccuracy = []\n",
    "for i in np.arange(0.2, 0.31, 0.01):\n",
    "    X = df.iloc[:, 0:5]\n",
    "    y = df.iloc[:, 5]\n",
    "    X_train, X_test, y_train, y_test = train_test_split(X, y, random_state = 0, test_size = i)\n",
    "    clf_entropy = DecisionTreeClassifier(criterion = \"entropy\", max_depth = 3, min_samples_leaf = 5)\n",
    "    clf_entropy.fit(X_train, y_train)\n",
    "    y_pred_en = clf_entropy.predict(X_test)\n",
    "    DTAccuracy.append(accuracy_score(y_test, y_pred_en))"
   ]
  },
  {
   "cell_type": "code",
   "execution_count": 170,
   "id": "bafb0e63",
   "metadata": {},
   "outputs": [
    {
     "data": {
      "text/plain": [
       "[0.875,\n",
       " 0.8837209302325582,\n",
       " 0.8666666666666667,\n",
       " 0.851063829787234,\n",
       " 0.8571428571428571,\n",
       " 0.8627450980392157,\n",
       " 0.8679245283018868,\n",
       " 0.8727272727272727,\n",
       " 0.8771929824561403,\n",
       " 0.8813559322033898,\n",
       " 0.8852459016393442]"
      ]
     },
     "execution_count": 170,
     "metadata": {},
     "output_type": "execute_result"
    }
   ],
   "source": [
    "DTAccuracy"
   ]
  },
  {
   "cell_type": "markdown",
   "id": "13bc2cfe",
   "metadata": {},
   "source": [
    "We can see that accuracy of Decision Tree model is higher that KNN."
   ]
  },
  {
   "cell_type": "markdown",
   "id": "cd516224",
   "metadata": {},
   "source": [
    "# Random Forest"
   ]
  },
  {
   "cell_type": "code",
   "execution_count": 171,
   "id": "78edd782",
   "metadata": {},
   "outputs": [],
   "source": [
    "X = df.iloc[:, 0:5]\n",
    "y = df.iloc[:, 5]\n",
    "X_train, X_test, y_train, y_test = train_test_split(X, y, random_state = 0, test_size=0.2)"
   ]
  },
  {
   "cell_type": "code",
   "execution_count": 172,
   "id": "0330dd19",
   "metadata": {},
   "outputs": [
    {
     "data": {
      "text/html": [
       "<style>#sk-container-id-30 {color: black;background-color: white;}#sk-container-id-30 pre{padding: 0;}#sk-container-id-30 div.sk-toggleable {background-color: white;}#sk-container-id-30 label.sk-toggleable__label {cursor: pointer;display: block;width: 100%;margin-bottom: 0;padding: 0.3em;box-sizing: border-box;text-align: center;}#sk-container-id-30 label.sk-toggleable__label-arrow:before {content: \"▸\";float: left;margin-right: 0.25em;color: #696969;}#sk-container-id-30 label.sk-toggleable__label-arrow:hover:before {color: black;}#sk-container-id-30 div.sk-estimator:hover label.sk-toggleable__label-arrow:before {color: black;}#sk-container-id-30 div.sk-toggleable__content {max-height: 0;max-width: 0;overflow: hidden;text-align: left;background-color: #f0f8ff;}#sk-container-id-30 div.sk-toggleable__content pre {margin: 0.2em;color: black;border-radius: 0.25em;background-color: #f0f8ff;}#sk-container-id-30 input.sk-toggleable__control:checked~div.sk-toggleable__content {max-height: 200px;max-width: 100%;overflow: auto;}#sk-container-id-30 input.sk-toggleable__control:checked~label.sk-toggleable__label-arrow:before {content: \"▾\";}#sk-container-id-30 div.sk-estimator input.sk-toggleable__control:checked~label.sk-toggleable__label {background-color: #d4ebff;}#sk-container-id-30 div.sk-label input.sk-toggleable__control:checked~label.sk-toggleable__label {background-color: #d4ebff;}#sk-container-id-30 input.sk-hidden--visually {border: 0;clip: rect(1px 1px 1px 1px);clip: rect(1px, 1px, 1px, 1px);height: 1px;margin: -1px;overflow: hidden;padding: 0;position: absolute;width: 1px;}#sk-container-id-30 div.sk-estimator {font-family: monospace;background-color: #f0f8ff;border: 1px dotted black;border-radius: 0.25em;box-sizing: border-box;margin-bottom: 0.5em;}#sk-container-id-30 div.sk-estimator:hover {background-color: #d4ebff;}#sk-container-id-30 div.sk-parallel-item::after {content: \"\";width: 100%;border-bottom: 1px solid gray;flex-grow: 1;}#sk-container-id-30 div.sk-label:hover label.sk-toggleable__label {background-color: #d4ebff;}#sk-container-id-30 div.sk-serial::before {content: \"\";position: absolute;border-left: 1px solid gray;box-sizing: border-box;top: 0;bottom: 0;left: 50%;z-index: 0;}#sk-container-id-30 div.sk-serial {display: flex;flex-direction: column;align-items: center;background-color: white;padding-right: 0.2em;padding-left: 0.2em;position: relative;}#sk-container-id-30 div.sk-item {position: relative;z-index: 1;}#sk-container-id-30 div.sk-parallel {display: flex;align-items: stretch;justify-content: center;background-color: white;position: relative;}#sk-container-id-30 div.sk-item::before, #sk-container-id-30 div.sk-parallel-item::before {content: \"\";position: absolute;border-left: 1px solid gray;box-sizing: border-box;top: 0;bottom: 0;left: 50%;z-index: -1;}#sk-container-id-30 div.sk-parallel-item {display: flex;flex-direction: column;z-index: 1;position: relative;background-color: white;}#sk-container-id-30 div.sk-parallel-item:first-child::after {align-self: flex-end;width: 50%;}#sk-container-id-30 div.sk-parallel-item:last-child::after {align-self: flex-start;width: 50%;}#sk-container-id-30 div.sk-parallel-item:only-child::after {width: 0;}#sk-container-id-30 div.sk-dashed-wrapped {border: 1px dashed gray;margin: 0 0.4em 0.5em 0.4em;box-sizing: border-box;padding-bottom: 0.4em;background-color: white;}#sk-container-id-30 div.sk-label label {font-family: monospace;font-weight: bold;display: inline-block;line-height: 1.2em;}#sk-container-id-30 div.sk-label-container {text-align: center;}#sk-container-id-30 div.sk-container {/* jupyter's `normalize.less` sets `[hidden] { display: none; }` but bootstrap.min.css set `[hidden] { display: none !important; }` so we also need the `!important` here to be able to override the default hidden behavior on the sphinx rendered scikit-learn.org. See: https://github.com/scikit-learn/scikit-learn/issues/21755 */display: inline-block !important;position: relative;}#sk-container-id-30 div.sk-text-repr-fallback {display: none;}</style><div id=\"sk-container-id-30\" class=\"sk-top-container\"><div class=\"sk-text-repr-fallback\"><pre>RandomForestClassifier(max_depth=3, min_samples_leaf=5)</pre><b>In a Jupyter environment, please rerun this cell to show the HTML representation or trust the notebook. <br />On GitHub, the HTML representation is unable to render, please try loading this page with nbviewer.org.</b></div><div class=\"sk-container\" hidden><div class=\"sk-item\"><div class=\"sk-estimator sk-toggleable\"><input class=\"sk-toggleable__control sk-hidden--visually\" id=\"sk-estimator-id-30\" type=\"checkbox\" checked><label for=\"sk-estimator-id-30\" class=\"sk-toggleable__label sk-toggleable__label-arrow\">RandomForestClassifier</label><div class=\"sk-toggleable__content\"><pre>RandomForestClassifier(max_depth=3, min_samples_leaf=5)</pre></div></div></div></div></div>"
      ],
      "text/plain": [
       "RandomForestClassifier(max_depth=3, min_samples_leaf=5)"
      ]
     },
     "execution_count": 172,
     "metadata": {},
     "output_type": "execute_result"
    }
   ],
   "source": [
    "# Create RF Classifier\n",
    "# n_estimators is the number of trees in forest, by default it is 100\n",
    "clf=RandomForestClassifier(n_estimators=100, max_depth = 3, min_samples_leaf = 5)\n",
    "#Train the model using the training sets y_pred=clf.predict(X_test)\n",
    "clf.fit(X_train,y_train)"
   ]
  },
  {
   "cell_type": "code",
   "execution_count": 173,
   "id": "f90e3297",
   "metadata": {},
   "outputs": [],
   "source": [
    "# predict the answers\n",
    "y_pred=clf.predict(X_test)"
   ]
  },
  {
   "cell_type": "code",
   "execution_count": 174,
   "id": "dd0689fc",
   "metadata": {},
   "outputs": [
    {
     "data": {
      "text/plain": [
       "0.925"
      ]
     },
     "execution_count": 174,
     "metadata": {},
     "output_type": "execute_result"
    }
   ],
   "source": [
    "# calculate accuracy\n",
    "accuracy_score(y_test, y_pred)"
   ]
  },
  {
   "cell_type": "code",
   "execution_count": 177,
   "id": "88f3a14c",
   "metadata": {},
   "outputs": [],
   "source": [
    "RFAccuracy = []\n",
    "for i in np.arange(0.2, 0.31, 0.01):\n",
    "    X = df.iloc[:, 0:5]\n",
    "    y = df.iloc[:, 5]\n",
    "    X_train, X_test, y_train, y_test = train_test_split(X, y, random_state=0, test_size = i)\n",
    "    clf=RandomForestClassifier(n_estimators=100, random_state = 0, max_depth = 3, min_samples_leaf = 5)\n",
    "    clf.fit(X_train,y_train)\n",
    "    y_pred=clf.predict(X_test)\n",
    "    RFAccuracy.append(accuracy_score(y_test, y_pred))"
   ]
  },
  {
   "cell_type": "code",
   "execution_count": 178,
   "id": "af0201f6",
   "metadata": {},
   "outputs": [
    {
     "data": {
      "text/plain": [
       "[0.925,\n",
       " 0.9302325581395349,\n",
       " 0.9333333333333333,\n",
       " 0.9361702127659575,\n",
       " 0.9387755102040817,\n",
       " 0.9411764705882353,\n",
       " 0.9433962264150944,\n",
       " 0.9272727272727272,\n",
       " 0.9298245614035088,\n",
       " 0.9322033898305084,\n",
       " 0.9344262295081968]"
      ]
     },
     "execution_count": 178,
     "metadata": {},
     "output_type": "execute_result"
    }
   ],
   "source": [
    "RFAccuracy"
   ]
  },
  {
   "cell_type": "code",
   "execution_count": 179,
   "id": "c29968a9",
   "metadata": {},
   "outputs": [],
   "source": [
    "test_size_v = [0.2, 0.21, 0.22, 0.23, 0.24, 0.25, 0.26, 0.27, 0.28, 0.29, 0.3]"
   ]
  },
  {
   "cell_type": "code",
   "execution_count": 180,
   "id": "bf0595f9",
   "metadata": {},
   "outputs": [],
   "source": [
    "data = {'test_size': test_size_v, 'KNN': KNNAccuracy, 'DT': DTAccuracy, 'RF': RFAccuracy}\n",
    "accuracy_df = pd.DataFrame(data=data)"
   ]
  },
  {
   "cell_type": "code",
   "execution_count": 181,
   "id": "8172d305",
   "metadata": {},
   "outputs": [
    {
     "data": {
      "text/html": [
       "<div>\n",
       "<style scoped>\n",
       "    .dataframe tbody tr th:only-of-type {\n",
       "        vertical-align: middle;\n",
       "    }\n",
       "\n",
       "    .dataframe tbody tr th {\n",
       "        vertical-align: top;\n",
       "    }\n",
       "\n",
       "    .dataframe thead th {\n",
       "        text-align: right;\n",
       "    }\n",
       "</style>\n",
       "<table border=\"1\" class=\"dataframe\">\n",
       "  <thead>\n",
       "    <tr style=\"text-align: right;\">\n",
       "      <th></th>\n",
       "      <th>test_size</th>\n",
       "      <th>KNN</th>\n",
       "      <th>DT</th>\n",
       "      <th>RF</th>\n",
       "    </tr>\n",
       "  </thead>\n",
       "  <tbody>\n",
       "    <tr>\n",
       "      <th>0</th>\n",
       "      <td>0.20</td>\n",
       "      <td>0.825000</td>\n",
       "      <td>0.875000</td>\n",
       "      <td>0.925000</td>\n",
       "    </tr>\n",
       "    <tr>\n",
       "      <th>1</th>\n",
       "      <td>0.21</td>\n",
       "      <td>0.837209</td>\n",
       "      <td>0.883721</td>\n",
       "      <td>0.930233</td>\n",
       "    </tr>\n",
       "    <tr>\n",
       "      <th>2</th>\n",
       "      <td>0.22</td>\n",
       "      <td>0.844444</td>\n",
       "      <td>0.866667</td>\n",
       "      <td>0.933333</td>\n",
       "    </tr>\n",
       "    <tr>\n",
       "      <th>3</th>\n",
       "      <td>0.23</td>\n",
       "      <td>0.872340</td>\n",
       "      <td>0.851064</td>\n",
       "      <td>0.936170</td>\n",
       "    </tr>\n",
       "    <tr>\n",
       "      <th>4</th>\n",
       "      <td>0.24</td>\n",
       "      <td>0.836735</td>\n",
       "      <td>0.857143</td>\n",
       "      <td>0.938776</td>\n",
       "    </tr>\n",
       "    <tr>\n",
       "      <th>5</th>\n",
       "      <td>0.25</td>\n",
       "      <td>0.764706</td>\n",
       "      <td>0.862745</td>\n",
       "      <td>0.941176</td>\n",
       "    </tr>\n",
       "    <tr>\n",
       "      <th>6</th>\n",
       "      <td>0.26</td>\n",
       "      <td>0.773585</td>\n",
       "      <td>0.867925</td>\n",
       "      <td>0.943396</td>\n",
       "    </tr>\n",
       "    <tr>\n",
       "      <th>7</th>\n",
       "      <td>0.27</td>\n",
       "      <td>0.763636</td>\n",
       "      <td>0.872727</td>\n",
       "      <td>0.927273</td>\n",
       "    </tr>\n",
       "    <tr>\n",
       "      <th>8</th>\n",
       "      <td>0.28</td>\n",
       "      <td>0.771930</td>\n",
       "      <td>0.877193</td>\n",
       "      <td>0.929825</td>\n",
       "    </tr>\n",
       "    <tr>\n",
       "      <th>9</th>\n",
       "      <td>0.29</td>\n",
       "      <td>0.745763</td>\n",
       "      <td>0.881356</td>\n",
       "      <td>0.932203</td>\n",
       "    </tr>\n",
       "    <tr>\n",
       "      <th>10</th>\n",
       "      <td>0.30</td>\n",
       "      <td>0.737705</td>\n",
       "      <td>0.885246</td>\n",
       "      <td>0.934426</td>\n",
       "    </tr>\n",
       "  </tbody>\n",
       "</table>\n",
       "</div>"
      ],
      "text/plain": [
       "    test_size       KNN        DT        RF\n",
       "0        0.20  0.825000  0.875000  0.925000\n",
       "1        0.21  0.837209  0.883721  0.930233\n",
       "2        0.22  0.844444  0.866667  0.933333\n",
       "3        0.23  0.872340  0.851064  0.936170\n",
       "4        0.24  0.836735  0.857143  0.938776\n",
       "5        0.25  0.764706  0.862745  0.941176\n",
       "6        0.26  0.773585  0.867925  0.943396\n",
       "7        0.27  0.763636  0.872727  0.927273\n",
       "8        0.28  0.771930  0.877193  0.929825\n",
       "9        0.29  0.745763  0.881356  0.932203\n",
       "10       0.30  0.737705  0.885246  0.934426"
      ]
     },
     "execution_count": 181,
     "metadata": {},
     "output_type": "execute_result"
    }
   ],
   "source": [
    "# table with all test_sizes and accuracy of all 3 models\n",
    "accuracy_df"
   ]
  },
  {
   "cell_type": "code",
   "execution_count": 198,
   "id": "3fcc601f",
   "metadata": {},
   "outputs": [],
   "source": [
    "# get max accuracy from each model\n",
    "max_KNN = accuracy_df['KNN'].max(axis=0)\n",
    "max_DT = accuracy_df['DT'].max(axis=0)\n",
    "max_RF = accuracy_df['RF'].max(axis=0)"
   ]
  },
  {
   "cell_type": "code",
   "execution_count": 197,
   "id": "d0f48235",
   "metadata": {},
   "outputs": [
    {
     "data": {
      "text/html": [
       "<style type=\"text/css\">\n",
       "#T_75d7b_row0_col0, #T_75d7b_row0_col1, #T_75d7b_row0_col2, #T_75d7b_row0_col3, #T_75d7b_row1_col0, #T_75d7b_row1_col1, #T_75d7b_row1_col2, #T_75d7b_row1_col3, #T_75d7b_row2_col0, #T_75d7b_row2_col1, #T_75d7b_row2_col2, #T_75d7b_row2_col3, #T_75d7b_row3_col0, #T_75d7b_row3_col2, #T_75d7b_row3_col3, #T_75d7b_row4_col0, #T_75d7b_row4_col1, #T_75d7b_row4_col2, #T_75d7b_row4_col3, #T_75d7b_row5_col0, #T_75d7b_row5_col1, #T_75d7b_row5_col2, #T_75d7b_row5_col3, #T_75d7b_row6_col0, #T_75d7b_row6_col1, #T_75d7b_row6_col2, #T_75d7b_row7_col0, #T_75d7b_row7_col1, #T_75d7b_row7_col2, #T_75d7b_row7_col3, #T_75d7b_row8_col0, #T_75d7b_row8_col1, #T_75d7b_row8_col2, #T_75d7b_row8_col3, #T_75d7b_row9_col0, #T_75d7b_row9_col1, #T_75d7b_row9_col2, #T_75d7b_row9_col3, #T_75d7b_row10_col0, #T_75d7b_row10_col1, #T_75d7b_row10_col3 {\n",
       "  background-color: ;\n",
       "}\n",
       "#T_75d7b_row3_col1, #T_75d7b_row6_col3, #T_75d7b_row10_col2 {\n",
       "  background-color: red;\n",
       "}\n",
       "</style>\n",
       "<table id=\"T_75d7b\">\n",
       "  <thead>\n",
       "    <tr>\n",
       "      <th class=\"blank level0\" >&nbsp;</th>\n",
       "      <th id=\"T_75d7b_level0_col0\" class=\"col_heading level0 col0\" >test_size</th>\n",
       "      <th id=\"T_75d7b_level0_col1\" class=\"col_heading level0 col1\" >KNN</th>\n",
       "      <th id=\"T_75d7b_level0_col2\" class=\"col_heading level0 col2\" >DT</th>\n",
       "      <th id=\"T_75d7b_level0_col3\" class=\"col_heading level0 col3\" >RF</th>\n",
       "    </tr>\n",
       "  </thead>\n",
       "  <tbody>\n",
       "    <tr>\n",
       "      <th id=\"T_75d7b_level0_row0\" class=\"row_heading level0 row0\" >0</th>\n",
       "      <td id=\"T_75d7b_row0_col0\" class=\"data row0 col0\" >0.200000</td>\n",
       "      <td id=\"T_75d7b_row0_col1\" class=\"data row0 col1\" >0.825000</td>\n",
       "      <td id=\"T_75d7b_row0_col2\" class=\"data row0 col2\" >0.875000</td>\n",
       "      <td id=\"T_75d7b_row0_col3\" class=\"data row0 col3\" >0.925000</td>\n",
       "    </tr>\n",
       "    <tr>\n",
       "      <th id=\"T_75d7b_level0_row1\" class=\"row_heading level0 row1\" >1</th>\n",
       "      <td id=\"T_75d7b_row1_col0\" class=\"data row1 col0\" >0.210000</td>\n",
       "      <td id=\"T_75d7b_row1_col1\" class=\"data row1 col1\" >0.837209</td>\n",
       "      <td id=\"T_75d7b_row1_col2\" class=\"data row1 col2\" >0.883721</td>\n",
       "      <td id=\"T_75d7b_row1_col3\" class=\"data row1 col3\" >0.930233</td>\n",
       "    </tr>\n",
       "    <tr>\n",
       "      <th id=\"T_75d7b_level0_row2\" class=\"row_heading level0 row2\" >2</th>\n",
       "      <td id=\"T_75d7b_row2_col0\" class=\"data row2 col0\" >0.220000</td>\n",
       "      <td id=\"T_75d7b_row2_col1\" class=\"data row2 col1\" >0.844444</td>\n",
       "      <td id=\"T_75d7b_row2_col2\" class=\"data row2 col2\" >0.866667</td>\n",
       "      <td id=\"T_75d7b_row2_col3\" class=\"data row2 col3\" >0.933333</td>\n",
       "    </tr>\n",
       "    <tr>\n",
       "      <th id=\"T_75d7b_level0_row3\" class=\"row_heading level0 row3\" >3</th>\n",
       "      <td id=\"T_75d7b_row3_col0\" class=\"data row3 col0\" >0.230000</td>\n",
       "      <td id=\"T_75d7b_row3_col1\" class=\"data row3 col1\" >0.872340</td>\n",
       "      <td id=\"T_75d7b_row3_col2\" class=\"data row3 col2\" >0.851064</td>\n",
       "      <td id=\"T_75d7b_row3_col3\" class=\"data row3 col3\" >0.936170</td>\n",
       "    </tr>\n",
       "    <tr>\n",
       "      <th id=\"T_75d7b_level0_row4\" class=\"row_heading level0 row4\" >4</th>\n",
       "      <td id=\"T_75d7b_row4_col0\" class=\"data row4 col0\" >0.240000</td>\n",
       "      <td id=\"T_75d7b_row4_col1\" class=\"data row4 col1\" >0.836735</td>\n",
       "      <td id=\"T_75d7b_row4_col2\" class=\"data row4 col2\" >0.857143</td>\n",
       "      <td id=\"T_75d7b_row4_col3\" class=\"data row4 col3\" >0.938776</td>\n",
       "    </tr>\n",
       "    <tr>\n",
       "      <th id=\"T_75d7b_level0_row5\" class=\"row_heading level0 row5\" >5</th>\n",
       "      <td id=\"T_75d7b_row5_col0\" class=\"data row5 col0\" >0.250000</td>\n",
       "      <td id=\"T_75d7b_row5_col1\" class=\"data row5 col1\" >0.764706</td>\n",
       "      <td id=\"T_75d7b_row5_col2\" class=\"data row5 col2\" >0.862745</td>\n",
       "      <td id=\"T_75d7b_row5_col3\" class=\"data row5 col3\" >0.941176</td>\n",
       "    </tr>\n",
       "    <tr>\n",
       "      <th id=\"T_75d7b_level0_row6\" class=\"row_heading level0 row6\" >6</th>\n",
       "      <td id=\"T_75d7b_row6_col0\" class=\"data row6 col0\" >0.260000</td>\n",
       "      <td id=\"T_75d7b_row6_col1\" class=\"data row6 col1\" >0.773585</td>\n",
       "      <td id=\"T_75d7b_row6_col2\" class=\"data row6 col2\" >0.867925</td>\n",
       "      <td id=\"T_75d7b_row6_col3\" class=\"data row6 col3\" >0.943396</td>\n",
       "    </tr>\n",
       "    <tr>\n",
       "      <th id=\"T_75d7b_level0_row7\" class=\"row_heading level0 row7\" >7</th>\n",
       "      <td id=\"T_75d7b_row7_col0\" class=\"data row7 col0\" >0.270000</td>\n",
       "      <td id=\"T_75d7b_row7_col1\" class=\"data row7 col1\" >0.763636</td>\n",
       "      <td id=\"T_75d7b_row7_col2\" class=\"data row7 col2\" >0.872727</td>\n",
       "      <td id=\"T_75d7b_row7_col3\" class=\"data row7 col3\" >0.927273</td>\n",
       "    </tr>\n",
       "    <tr>\n",
       "      <th id=\"T_75d7b_level0_row8\" class=\"row_heading level0 row8\" >8</th>\n",
       "      <td id=\"T_75d7b_row8_col0\" class=\"data row8 col0\" >0.280000</td>\n",
       "      <td id=\"T_75d7b_row8_col1\" class=\"data row8 col1\" >0.771930</td>\n",
       "      <td id=\"T_75d7b_row8_col2\" class=\"data row8 col2\" >0.877193</td>\n",
       "      <td id=\"T_75d7b_row8_col3\" class=\"data row8 col3\" >0.929825</td>\n",
       "    </tr>\n",
       "    <tr>\n",
       "      <th id=\"T_75d7b_level0_row9\" class=\"row_heading level0 row9\" >9</th>\n",
       "      <td id=\"T_75d7b_row9_col0\" class=\"data row9 col0\" >0.290000</td>\n",
       "      <td id=\"T_75d7b_row9_col1\" class=\"data row9 col1\" >0.745763</td>\n",
       "      <td id=\"T_75d7b_row9_col2\" class=\"data row9 col2\" >0.881356</td>\n",
       "      <td id=\"T_75d7b_row9_col3\" class=\"data row9 col3\" >0.932203</td>\n",
       "    </tr>\n",
       "    <tr>\n",
       "      <th id=\"T_75d7b_level0_row10\" class=\"row_heading level0 row10\" >10</th>\n",
       "      <td id=\"T_75d7b_row10_col0\" class=\"data row10 col0\" >0.300000</td>\n",
       "      <td id=\"T_75d7b_row10_col1\" class=\"data row10 col1\" >0.737705</td>\n",
       "      <td id=\"T_75d7b_row10_col2\" class=\"data row10 col2\" >0.885246</td>\n",
       "      <td id=\"T_75d7b_row10_col3\" class=\"data row10 col3\" >0.934426</td>\n",
       "    </tr>\n",
       "  </tbody>\n",
       "</table>\n"
      ],
      "text/plain": [
       "<pandas.io.formats.style.Styler at 0x279695b7dc0>"
      ]
     },
     "execution_count": 197,
     "metadata": {},
     "output_type": "execute_result"
    }
   ],
   "source": [
    "# function to highlight MAX values\n",
    "def highlight_cells(val):\n",
    "    color = 'red' if ((val == max_KNN) | (val == max_RF) | (val == max_DT)) else ''\n",
    "    return 'background-color: {}'.format(color)\n",
    "\n",
    "accuracy_df.style.applymap(highlight_cells)"
   ]
  },
  {
   "cell_type": "markdown",
   "id": "b3faca2f",
   "metadata": {},
   "source": [
    "  From this table we can observe that in general accuracy of KNN model is lower than DT and RF. Probable cause for that may be the fact that KNN does not have any training data, those accuracy is lower. Also it takes a lot of time to count destination in KNN, that's why it is not convenient to use this model with large datasets.\n",
    "  Decision tree model's accuracy is higher than KNN. This is because we use part of the data for training, during this trainin DT gains knowlege about the data and it helps to make better predictions.\n",
    "  Random Forest, as we can see, has the most accurate predictions. This is because Random Forest consist of multiple Decision Trees which are operating together and outperform any of the individual constituent models.\n"
   ]
  }
 ],
 "metadata": {
  "kernelspec": {
   "display_name": "Python 3 (ipykernel)",
   "language": "python",
   "name": "python3"
  },
  "language_info": {
   "codemirror_mode": {
    "name": "ipython",
    "version": 3
   },
   "file_extension": ".py",
   "mimetype": "text/x-python",
   "name": "python",
   "nbconvert_exporter": "python",
   "pygments_lexer": "ipython3",
   "version": "3.10.7"
  }
 },
 "nbformat": 4,
 "nbformat_minor": 5
}
